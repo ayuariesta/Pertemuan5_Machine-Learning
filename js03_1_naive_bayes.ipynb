{
  "cells": [
    {
      "cell_type": "markdown",
      "metadata": {
        "id": "view-in-github",
        "colab_type": "text"
      },
      "source": [
        "<a href=\"https://colab.research.google.com/github/ayuariesta/Pertemuan5_Machine-Learning/blob/main/js03_1_naive_bayes.ipynb\" target=\"_parent\"><img src=\"https://colab.research.google.com/assets/colab-badge.svg\" alt=\"Open In Colab\"/></a>"
      ]
    },
    {
      "cell_type": "markdown",
      "metadata": {
        "id": "syVhnz2uQxa5"
      },
      "source": [
        "# Naive Bayes dengan Data Dummy\n",
        "\n",
        "Pada percobaan pertama ini kita akan menggunakan data dummy (sintentis) untuk membuat sebuah model Naive Bayes. Untuk membuat data dummy, kita dapat menggunakan fungsi `make_classification` dari library scikit-learn. Selanjutnya, kita akan membuat model Multinomial Naive Bayes dengan menggunakan `MultinomialNB` dan model Gaussian Naive Bayes menggunakan `GaussianNB`."
      ]
    },
    {
      "cell_type": "markdown",
      "metadata": {
        "id": "VWi4QOhNQxa_"
      },
      "source": [
        "## Mendefiniskan Data Dummy"
      ]
    },
    {
      "cell_type": "code",
      "execution_count": 1,
      "metadata": {
        "id": "F5_lHp0UQxbA"
      },
      "outputs": [],
      "source": [
        "import numpy as np\n",
        "from sklearn.datasets import make_classification\n",
        "\n",
        "# Membuat data dummy\n",
        "# Hasil dari make_classification berupa data fitur X dan label y\n",
        "# Label y akan berupa data yang sudah di encode (angka)\n",
        "X,y = make_classification(n_samples=100, n_features=2, n_classes=2, n_informative=2, n_redundant=0, n_repeated=0, shuffle=False)\n",
        "\n",
        "# Secara defalt, make_classfication menghasilkan nilai float\n",
        "# Kita perlu merubah dalam bentuk diskrit\n",
        "\n",
        "# Absolutekan nilai\n",
        "X = np.absolute(X)\n",
        "\n",
        "# Bulatkan nilai ke 2 angka dibelakang koma\n",
        "# Kalikan dengan 100 supaya tidak ada lagi koma\n",
        "X = np.round(X, 2) * 100\n",
        "\n",
        "# Ubah ke dalam bentuk integer\n",
        "X = X.astype(int)"
      ]
    },
    {
      "cell_type": "markdown",
      "metadata": {
        "id": "px8hAOESQxbB"
      },
      "source": [
        "Parameter yang digunakan pada fungsi `make_classification` adalah,\n",
        "\n",
        "- n_samples: jumlah sampel yang diinginkan\n",
        "- n_features: jumlah fitur yang digunakan\n",
        "- n_classes: jumlah kelas\n",
        "- n_informative: jumlah fitur yang memiliki korelasi dengan kelas\n",
        "- n_redundant: jumlah fitur yang tidak memiliki korelasi dengan kelas\n",
        "- n_repeated: jumlah fitur yang diulang"
      ]
    },
    {
      "cell_type": "markdown",
      "metadata": {
        "id": "kLFA3Y34QxbC"
      },
      "source": [
        "## (Opsional) Membuat Data Frame\n",
        "\n",
        "Agar data lebih mudah untuk dibaca, maka kita akan membuat DataFrame dengan menggunakan library Pandas berdasarkan data dummy yang telah dibuat sebelumnya"
      ]
    },
    {
      "cell_type": "code",
      "execution_count": 2,
      "metadata": {
        "colab": {
          "base_uri": "https://localhost:8080/",
          "height": 206
        },
        "id": "smi1awmpQxbC",
        "outputId": "5c878d97-69b0-483e-d271-decb6b351874"
      },
      "outputs": [
        {
          "output_type": "execute_result",
          "data": {
            "text/plain": [
              "   Fitur 1  Fitur 2  Label\n",
              "0      111       97      0\n",
              "1       18      272      0\n",
              "2      142      165      0\n",
              "3       92       48      0\n",
              "4      135      101      0"
            ],
            "text/html": [
              "\n",
              "  <div id=\"df-60488fea-789f-4ba1-ae3a-372391a52012\">\n",
              "    <div class=\"colab-df-container\">\n",
              "      <div>\n",
              "<style scoped>\n",
              "    .dataframe tbody tr th:only-of-type {\n",
              "        vertical-align: middle;\n",
              "    }\n",
              "\n",
              "    .dataframe tbody tr th {\n",
              "        vertical-align: top;\n",
              "    }\n",
              "\n",
              "    .dataframe thead th {\n",
              "        text-align: right;\n",
              "    }\n",
              "</style>\n",
              "<table border=\"1\" class=\"dataframe\">\n",
              "  <thead>\n",
              "    <tr style=\"text-align: right;\">\n",
              "      <th></th>\n",
              "      <th>Fitur 1</th>\n",
              "      <th>Fitur 2</th>\n",
              "      <th>Label</th>\n",
              "    </tr>\n",
              "  </thead>\n",
              "  <tbody>\n",
              "    <tr>\n",
              "      <th>0</th>\n",
              "      <td>111</td>\n",
              "      <td>97</td>\n",
              "      <td>0</td>\n",
              "    </tr>\n",
              "    <tr>\n",
              "      <th>1</th>\n",
              "      <td>18</td>\n",
              "      <td>272</td>\n",
              "      <td>0</td>\n",
              "    </tr>\n",
              "    <tr>\n",
              "      <th>2</th>\n",
              "      <td>142</td>\n",
              "      <td>165</td>\n",
              "      <td>0</td>\n",
              "    </tr>\n",
              "    <tr>\n",
              "      <th>3</th>\n",
              "      <td>92</td>\n",
              "      <td>48</td>\n",
              "      <td>0</td>\n",
              "    </tr>\n",
              "    <tr>\n",
              "      <th>4</th>\n",
              "      <td>135</td>\n",
              "      <td>101</td>\n",
              "      <td>0</td>\n",
              "    </tr>\n",
              "  </tbody>\n",
              "</table>\n",
              "</div>\n",
              "      <button class=\"colab-df-convert\" onclick=\"convertToInteractive('df-60488fea-789f-4ba1-ae3a-372391a52012')\"\n",
              "              title=\"Convert this dataframe to an interactive table.\"\n",
              "              style=\"display:none;\">\n",
              "        \n",
              "  <svg xmlns=\"http://www.w3.org/2000/svg\" height=\"24px\"viewBox=\"0 0 24 24\"\n",
              "       width=\"24px\">\n",
              "    <path d=\"M0 0h24v24H0V0z\" fill=\"none\"/>\n",
              "    <path d=\"M18.56 5.44l.94 2.06.94-2.06 2.06-.94-2.06-.94-.94-2.06-.94 2.06-2.06.94zm-11 1L8.5 8.5l.94-2.06 2.06-.94-2.06-.94L8.5 2.5l-.94 2.06-2.06.94zm10 10l.94 2.06.94-2.06 2.06-.94-2.06-.94-.94-2.06-.94 2.06-2.06.94z\"/><path d=\"M17.41 7.96l-1.37-1.37c-.4-.4-.92-.59-1.43-.59-.52 0-1.04.2-1.43.59L10.3 9.45l-7.72 7.72c-.78.78-.78 2.05 0 2.83L4 21.41c.39.39.9.59 1.41.59.51 0 1.02-.2 1.41-.59l7.78-7.78 2.81-2.81c.8-.78.8-2.07 0-2.86zM5.41 20L4 18.59l7.72-7.72 1.47 1.35L5.41 20z\"/>\n",
              "  </svg>\n",
              "      </button>\n",
              "      \n",
              "  <style>\n",
              "    .colab-df-container {\n",
              "      display:flex;\n",
              "      flex-wrap:wrap;\n",
              "      gap: 12px;\n",
              "    }\n",
              "\n",
              "    .colab-df-convert {\n",
              "      background-color: #E8F0FE;\n",
              "      border: none;\n",
              "      border-radius: 50%;\n",
              "      cursor: pointer;\n",
              "      display: none;\n",
              "      fill: #1967D2;\n",
              "      height: 32px;\n",
              "      padding: 0 0 0 0;\n",
              "      width: 32px;\n",
              "    }\n",
              "\n",
              "    .colab-df-convert:hover {\n",
              "      background-color: #E2EBFA;\n",
              "      box-shadow: 0px 1px 2px rgba(60, 64, 67, 0.3), 0px 1px 3px 1px rgba(60, 64, 67, 0.15);\n",
              "      fill: #174EA6;\n",
              "    }\n",
              "\n",
              "    [theme=dark] .colab-df-convert {\n",
              "      background-color: #3B4455;\n",
              "      fill: #D2E3FC;\n",
              "    }\n",
              "\n",
              "    [theme=dark] .colab-df-convert:hover {\n",
              "      background-color: #434B5C;\n",
              "      box-shadow: 0px 1px 3px 1px rgba(0, 0, 0, 0.15);\n",
              "      filter: drop-shadow(0px 1px 2px rgba(0, 0, 0, 0.3));\n",
              "      fill: #FFFFFF;\n",
              "    }\n",
              "  </style>\n",
              "\n",
              "      <script>\n",
              "        const buttonEl =\n",
              "          document.querySelector('#df-60488fea-789f-4ba1-ae3a-372391a52012 button.colab-df-convert');\n",
              "        buttonEl.style.display =\n",
              "          google.colab.kernel.accessAllowed ? 'block' : 'none';\n",
              "\n",
              "        async function convertToInteractive(key) {\n",
              "          const element = document.querySelector('#df-60488fea-789f-4ba1-ae3a-372391a52012');\n",
              "          const dataTable =\n",
              "            await google.colab.kernel.invokeFunction('convertToInteractive',\n",
              "                                                     [key], {});\n",
              "          if (!dataTable) return;\n",
              "\n",
              "          const docLinkHtml = 'Like what you see? Visit the ' +\n",
              "            '<a target=\"_blank\" href=https://colab.research.google.com/notebooks/data_table.ipynb>data table notebook</a>'\n",
              "            + ' to learn more about interactive tables.';\n",
              "          element.innerHTML = '';\n",
              "          dataTable['output_type'] = 'display_data';\n",
              "          await google.colab.output.renderOutput(dataTable, element);\n",
              "          const docLink = document.createElement('div');\n",
              "          docLink.innerHTML = docLinkHtml;\n",
              "          element.appendChild(docLink);\n",
              "        }\n",
              "      </script>\n",
              "    </div>\n",
              "  </div>\n",
              "  "
            ]
          },
          "metadata": {},
          "execution_count": 2
        }
      ],
      "source": [
        "import pandas as pd\n",
        "\n",
        "# Reshape label y menjadi 2D\n",
        "# Hal ini dilakukan karena kita akan menggabungkannya dengan data fitur X\n",
        "y_new = y.reshape(len(y), 1)\n",
        "\n",
        "# Gabungkan fitur X dan label y dalam data array\n",
        "data = np.concatenate((X, y_new), axis=1)\n",
        "\n",
        "# Definisikan nama kolom\n",
        "columns = ['Fitur 1', 'Fitur 2', 'Label']\n",
        "\n",
        "# Buat Data Frame\n",
        "df = pd.DataFrame(data, columns=columns)\n",
        "\n",
        "# Cek Data Frame\n",
        "df.head()"
      ]
    },
    {
      "cell_type": "markdown",
      "metadata": {
        "id": "GGkyPSuNQxbE"
      },
      "source": [
        "Dikarenakan label masih berbetuk encoding angka, untuk mempermudah pembacaan data, kita dapat mengubah bentuknya dalam bentuk kategorial"
      ]
    },
    {
      "cell_type": "code",
      "execution_count": 3,
      "metadata": {
        "colab": {
          "base_uri": "https://localhost:8080/",
          "height": 206
        },
        "id": "vFZblkxpQxbF",
        "outputId": "f4f96789-62ae-46f7-e6bc-eae0803ffdc5"
      },
      "outputs": [
        {
          "output_type": "execute_result",
          "data": {
            "text/plain": [
              "   Fitur 1  Fitur 2    Label\n",
              "0      111       97  Kelas B\n",
              "1       18      272  Kelas B\n",
              "2      142      165  Kelas B\n",
              "3       92       48  Kelas B\n",
              "4      135      101  Kelas B"
            ],
            "text/html": [
              "\n",
              "  <div id=\"df-4138b9b7-d6f2-45f1-92e7-f4a797d7a442\">\n",
              "    <div class=\"colab-df-container\">\n",
              "      <div>\n",
              "<style scoped>\n",
              "    .dataframe tbody tr th:only-of-type {\n",
              "        vertical-align: middle;\n",
              "    }\n",
              "\n",
              "    .dataframe tbody tr th {\n",
              "        vertical-align: top;\n",
              "    }\n",
              "\n",
              "    .dataframe thead th {\n",
              "        text-align: right;\n",
              "    }\n",
              "</style>\n",
              "<table border=\"1\" class=\"dataframe\">\n",
              "  <thead>\n",
              "    <tr style=\"text-align: right;\">\n",
              "      <th></th>\n",
              "      <th>Fitur 1</th>\n",
              "      <th>Fitur 2</th>\n",
              "      <th>Label</th>\n",
              "    </tr>\n",
              "  </thead>\n",
              "  <tbody>\n",
              "    <tr>\n",
              "      <th>0</th>\n",
              "      <td>111</td>\n",
              "      <td>97</td>\n",
              "      <td>Kelas B</td>\n",
              "    </tr>\n",
              "    <tr>\n",
              "      <th>1</th>\n",
              "      <td>18</td>\n",
              "      <td>272</td>\n",
              "      <td>Kelas B</td>\n",
              "    </tr>\n",
              "    <tr>\n",
              "      <th>2</th>\n",
              "      <td>142</td>\n",
              "      <td>165</td>\n",
              "      <td>Kelas B</td>\n",
              "    </tr>\n",
              "    <tr>\n",
              "      <th>3</th>\n",
              "      <td>92</td>\n",
              "      <td>48</td>\n",
              "      <td>Kelas B</td>\n",
              "    </tr>\n",
              "    <tr>\n",
              "      <th>4</th>\n",
              "      <td>135</td>\n",
              "      <td>101</td>\n",
              "      <td>Kelas B</td>\n",
              "    </tr>\n",
              "  </tbody>\n",
              "</table>\n",
              "</div>\n",
              "      <button class=\"colab-df-convert\" onclick=\"convertToInteractive('df-4138b9b7-d6f2-45f1-92e7-f4a797d7a442')\"\n",
              "              title=\"Convert this dataframe to an interactive table.\"\n",
              "              style=\"display:none;\">\n",
              "        \n",
              "  <svg xmlns=\"http://www.w3.org/2000/svg\" height=\"24px\"viewBox=\"0 0 24 24\"\n",
              "       width=\"24px\">\n",
              "    <path d=\"M0 0h24v24H0V0z\" fill=\"none\"/>\n",
              "    <path d=\"M18.56 5.44l.94 2.06.94-2.06 2.06-.94-2.06-.94-.94-2.06-.94 2.06-2.06.94zm-11 1L8.5 8.5l.94-2.06 2.06-.94-2.06-.94L8.5 2.5l-.94 2.06-2.06.94zm10 10l.94 2.06.94-2.06 2.06-.94-2.06-.94-.94-2.06-.94 2.06-2.06.94z\"/><path d=\"M17.41 7.96l-1.37-1.37c-.4-.4-.92-.59-1.43-.59-.52 0-1.04.2-1.43.59L10.3 9.45l-7.72 7.72c-.78.78-.78 2.05 0 2.83L4 21.41c.39.39.9.59 1.41.59.51 0 1.02-.2 1.41-.59l7.78-7.78 2.81-2.81c.8-.78.8-2.07 0-2.86zM5.41 20L4 18.59l7.72-7.72 1.47 1.35L5.41 20z\"/>\n",
              "  </svg>\n",
              "      </button>\n",
              "      \n",
              "  <style>\n",
              "    .colab-df-container {\n",
              "      display:flex;\n",
              "      flex-wrap:wrap;\n",
              "      gap: 12px;\n",
              "    }\n",
              "\n",
              "    .colab-df-convert {\n",
              "      background-color: #E8F0FE;\n",
              "      border: none;\n",
              "      border-radius: 50%;\n",
              "      cursor: pointer;\n",
              "      display: none;\n",
              "      fill: #1967D2;\n",
              "      height: 32px;\n",
              "      padding: 0 0 0 0;\n",
              "      width: 32px;\n",
              "    }\n",
              "\n",
              "    .colab-df-convert:hover {\n",
              "      background-color: #E2EBFA;\n",
              "      box-shadow: 0px 1px 2px rgba(60, 64, 67, 0.3), 0px 1px 3px 1px rgba(60, 64, 67, 0.15);\n",
              "      fill: #174EA6;\n",
              "    }\n",
              "\n",
              "    [theme=dark] .colab-df-convert {\n",
              "      background-color: #3B4455;\n",
              "      fill: #D2E3FC;\n",
              "    }\n",
              "\n",
              "    [theme=dark] .colab-df-convert:hover {\n",
              "      background-color: #434B5C;\n",
              "      box-shadow: 0px 1px 3px 1px rgba(0, 0, 0, 0.15);\n",
              "      filter: drop-shadow(0px 1px 2px rgba(0, 0, 0, 0.3));\n",
              "      fill: #FFFFFF;\n",
              "    }\n",
              "  </style>\n",
              "\n",
              "      <script>\n",
              "        const buttonEl =\n",
              "          document.querySelector('#df-4138b9b7-d6f2-45f1-92e7-f4a797d7a442 button.colab-df-convert');\n",
              "        buttonEl.style.display =\n",
              "          google.colab.kernel.accessAllowed ? 'block' : 'none';\n",
              "\n",
              "        async function convertToInteractive(key) {\n",
              "          const element = document.querySelector('#df-4138b9b7-d6f2-45f1-92e7-f4a797d7a442');\n",
              "          const dataTable =\n",
              "            await google.colab.kernel.invokeFunction('convertToInteractive',\n",
              "                                                     [key], {});\n",
              "          if (!dataTable) return;\n",
              "\n",
              "          const docLinkHtml = 'Like what you see? Visit the ' +\n",
              "            '<a target=\"_blank\" href=https://colab.research.google.com/notebooks/data_table.ipynb>data table notebook</a>'\n",
              "            + ' to learn more about interactive tables.';\n",
              "          element.innerHTML = '';\n",
              "          dataTable['output_type'] = 'display_data';\n",
              "          await google.colab.output.renderOutput(dataTable, element);\n",
              "          const docLink = document.createElement('div');\n",
              "          docLink.innerHTML = docLinkHtml;\n",
              "          element.appendChild(docLink);\n",
              "        }\n",
              "      </script>\n",
              "    </div>\n",
              "  </div>\n",
              "  "
            ]
          },
          "metadata": {},
          "execution_count": 3
        }
      ],
      "source": [
        "# Definisikan nama label\n",
        "labels = {\n",
        "    1 : 'Kelas A',\n",
        "    0 : 'Kelas B'\n",
        "}\n",
        "\n",
        "# Copy Data Frame untuk menyimpan Data Frame baru\n",
        "# dengan label yang mudah untuk dibaca\n",
        "df_label = df.copy()\n",
        "\n",
        "# Ubah label dengan fungsi mapping dari Pandas\n",
        "# pada Data Frame df_label\n",
        "df_label['Label'] = df_label['Label'].map(labels)\n",
        "\n",
        "# Cek Data Frame df_label\n",
        "df_label.head()"
      ]
    },
    {
      "cell_type": "markdown",
      "metadata": {
        "id": "yrSSQXCYQxbG"
      },
      "source": [
        "## (Opsional) Visualisasi Data"
      ]
    },
    {
      "cell_type": "code",
      "execution_count": 4,
      "metadata": {
        "colab": {
          "base_uri": "https://localhost:8080/",
          "height": 269
        },
        "id": "n7mwxrnYQxbH",
        "outputId": "23de1bb1-de27-45b1-928a-1b421a52c229"
      },
      "outputs": [
        {
          "output_type": "display_data",
          "data": {
            "text/plain": [
              "<Figure size 432x288 with 1 Axes>"
            ],
            "image/png": "[encoded data removed]"
          },
          "metadata": {
            "needs_background": "light"
          }
        }
      ],
      "source": [
        "import matplotlib.pyplot as plt\n",
        "\n",
        "# Definisikan warna untuk setiap kelas\n",
        "colors = {\n",
        "    'class_a': 'MediumVioletRed',\n",
        "    'class_b': 'Navy'\n",
        "}\n",
        "\n",
        "# Kelompokkan label berdasarkan nama kelas\n",
        "gb = df_label.groupby(['Label'])\n",
        "class_a = gb.get_group('Kelas A')\n",
        "class_b = gb.get_group('Kelas B')\n",
        "\n",
        "# Plot\n",
        "plt.scatter(x=class_a['Fitur 1'], y=class_a['Fitur 2'], c=colors['class_a'])\n",
        "plt.scatter(x=class_b['Fitur 1'], y=class_b['Fitur 2'], c=colors['class_b'])\n",
        "plt.xlabel('Fitur 1')\n",
        "plt.ylabel('Fitur 2')\n",
        "plt.legend(['Kelas A', 'Kelas B'])\n",
        "plt.gca().axes.xaxis.set_ticklabels([])\n",
        "plt.gca().axes.yaxis.set_ticklabels([])\n",
        "plt.show()"
      ]
    },
    {
      "cell_type": "markdown",
      "metadata": {
        "id": "_ap84kmUQxbI"
      },
      "source": [
        "## Klasifikasi Multinomial Naive Bayes"
      ]
    },
    {
      "cell_type": "code",
      "execution_count": 5,
      "metadata": {
        "colab": {
          "base_uri": "https://localhost:8080/"
        },
        "id": "xXQdvDZHQxbI",
        "outputId": "76199a04-15d4-4ff8-f3fc-0d84c0f92c2b"
      },
      "outputs": [
        {
          "output_type": "stream",
          "name": "stdout",
          "text": [
            "Hasil akurasi data training: 0.5\n",
            "Hasil akurasi data test: 0.6333333333333333\n"
          ]
        }
      ],
      "source": [
        "from sklearn.naive_bayes import MultinomialNB # class untuk model MultinomialNB\n",
        "from sklearn.model_selection import train_test_split\n",
        "from sklearn.metrics import accuracy_score # evaluasi model berdasarkan akurasi\n",
        "\n",
        "# Inisiasi obyek MultinomialNB\n",
        "mnb = MultinomialNB()\n",
        "\n",
        "# Kita dapat langsung menggunakan fitur X dan label y\n",
        "# hasil dari proses pembuatan data dummy\n",
        "\n",
        "# Split data training dan testing\n",
        "X_train, X_test, y_train, y_test = train_test_split(X,y, test_size=0.3, random_state=30)\n",
        "\n",
        "# Fit model\n",
        "# Label y harus dalam bentu 1D atau (n_samples,)\n",
        "mnb.fit(X_train, y_train)\n",
        "\n",
        "# Prediksi dengan data training\n",
        "y_train_pred = mnb.predict(X_train)\n",
        "\n",
        "# Evaluasi akurasi training\n",
        "acc_train = accuracy_score(y_train, y_train_pred)\n",
        "\n",
        "# Prediksi test data\n",
        "y_test_pred = mnb.predict(X_test)\n",
        "\n",
        "# Evaluasi model dengan metric akurasi\n",
        "acc_test = accuracy_score(y_test, y_test_pred)\n",
        "\n",
        "# Print hasil evaluasi\n",
        "print(f'Hasil akurasi data training: {acc_train}')\n",
        "print(f'Hasil akurasi data test: {acc_test}')"
      ]
    },
    {
      "cell_type": "markdown",
      "metadata": {
        "id": "1f6a2DKuQxbJ"
      },
      "source": [
        "## Klasifikasi Gaussian Naive Bayes"
      ]
    },
    {
      "cell_type": "code",
      "execution_count": 6,
      "metadata": {
        "colab": {
          "base_uri": "https://localhost:8080/"
        },
        "id": "lKV6kjrhQxbJ",
        "outputId": "1aeeb2bf-6df2-4a69-a81a-337c63f2d877"
      },
      "outputs": [
        {
          "output_type": "stream",
          "name": "stdout",
          "text": [
            "Hasil akurasi data train (Gaussian): 0.8\n",
            "Hasil akurasi data test (Gaussian): 0.7333333333333333\n"
          ]
        }
      ],
      "source": [
        "from sklearn.naive_bayes import GaussianNB # class untuk model GaussianNB\n",
        "\n",
        "# Inisiasi obyek Gaussian\n",
        "gnb = GaussianNB()\n",
        "\n",
        "# Kita menggunakan split data training dan testing\n",
        "# yang sama dengan model multinomial\n",
        "\n",
        "# Fit model\n",
        "# Label y harus dalam bentu 1D atau (n_samples,)\n",
        "gnb.fit(X_train, y_train)\n",
        "\n",
        "# Prediksi dengan data training\n",
        "y_train_pred_gnb = gnb.predict(X_train)\n",
        "\n",
        "# Evaluasi akurasi training\n",
        "acc_train_gnb = accuracy_score(y_train, y_train_pred_gnb)\n",
        "\n",
        "# Prediksi test data\n",
        "y_test_pred_gnb = gnb.predict(X_test)\n",
        "\n",
        "# Evaluasi model dengan metric akurasi\n",
        "acc_test_gnb = accuracy_score(y_test, y_test_pred_gnb)\n",
        "\n",
        "# Print hasil evaluasi\n",
        "print(f'Hasil akurasi data train (Gaussian): {acc_train_gnb}')\n",
        "print(f'Hasil akurasi data test (Gaussian): {acc_test_gnb}')"
      ]
    }
  ],
  "metadata": {
    "kernelspec": {
      "display_name": "Python 3.9.5 64-bit",
      "language": "python",
      "name": "python3"
    },
    "language_info": {
      "codemirror_mode": {
        "name": "ipython",
        "version": 3
      },
      "file_extension": ".py",
      "mimetype": "text/x-python",
      "name": "python",
      "nbconvert_exporter": "python",
      "pygments_lexer": "ipython3",
      "version": "3.9.5"
    },
    "orig_nbformat": 4,
    "vscode": {
      "interpreter": {
        "hash": "aee8b7b246df8f9039afb4144a1f6fd8d2ca17a180786b69acc140d282b71a49"
      }
    },
    "colab": {
      "provenance": [],
      "include_colab_link": true
    }
  },
  "nbformat": 4,
  "nbformat_minor": 0
}